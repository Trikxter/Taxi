{
 "cells": [
  {
   "cell_type": "markdown",
   "metadata": {},
   "source": [
    "<h1>Содержание<span class=\"tocSkip\"></span></h1>\n",
    "<div class=\"toc\"><ul class=\"toc-item\"><li><span><a href=\"#Подготовка\" data-toc-modified-id=\"Подготовка-1\"><span class=\"toc-item-num\">1&nbsp;&nbsp;</span>Подготовка</a></span></li><li><span><a href=\"#Анализ\" data-toc-modified-id=\"Анализ-2\"><span class=\"toc-item-num\">2&nbsp;&nbsp;</span>Анализ</a></span></li><li><span><a href=\"#Обучение\" data-toc-modified-id=\"Обучение-3\"><span class=\"toc-item-num\">3&nbsp;&nbsp;</span>Обучение</a></span></li><li><span><a href=\"#Тестирование\" data-toc-modified-id=\"Тестирование-4\"><span class=\"toc-item-num\">4&nbsp;&nbsp;</span>Тестирование</a></span></li><li><span><a href=\"#Чек-лист-проверки\" data-toc-modified-id=\"Чек-лист-проверки-5\"><span class=\"toc-item-num\">5&nbsp;&nbsp;</span>Чек-лист проверки</a></span></li></ul></div>"
   ]
  },
  {
   "cell_type": "markdown",
   "metadata": {},
   "source": [
    "# Прогнозирование  заказов такси "
   ]
  },
  {
   "cell_type": "markdown",
   "metadata": {},
   "source": [
    "Компания «Чётенькое такси» собрала исторические данные о заказах такси в аэропортах. Чтобы привлекать больше водителей в период пиковой нагрузки, нужно спрогнозировать количество заказов такси на следующий час. Постройте модель для такого предсказания.\n",
    "\n",
    "Значение метрики *RMSE* на тестовой выборке должно быть не больше 48.\n",
    "\n",
    "Вам нужно:\n",
    "\n",
    "1. Загрузить данные и выполнить их ресемплирование по одному часу.\n",
    "2. Проанализировать данные.\n",
    "3. Обучить разные модели с различными гиперпараметрами. Сделать тестовую выборку размером 10% от исходных данных.\n",
    "4. Проверить данные на тестовой выборке и сделать выводы.\n",
    "\n",
    "\n",
    "Данные лежат в файле `taxi.csv`. Количество заказов находится в столбце `num_orders` (от англ. *number of orders*, «число заказов»)."
   ]
  },
  {
   "cell_type": "markdown",
   "metadata": {},
   "source": [
    "## Подготовка данных"
   ]
  },
  {
   "cell_type": "markdown",
   "metadata": {},
   "source": [
    "Импортируем необходимые нам библиотеки"
   ]
  },
  {
   "cell_type": "code",
   "execution_count": 1,
   "metadata": {},
   "outputs": [],
   "source": [
    "import pandas as pd\n",
    "from sklearn.model_selection import train_test_split\n",
    "from sklearn.linear_model import LinearRegression\n",
    "from sklearn.metrics import mean_absolute_error\n",
    "from sklearn.metrics import mean_squared_error\n",
    "import numpy as np\n",
    "from statsmodels.tsa.seasonal import seasonal_decompose\n",
    "import matplotlib.pyplot as plt\n",
    "import statsmodels.api as sm\n",
    "from sklearn.ensemble import RandomForestRegressor\n",
    "import seaborn as sns\n",
    "import matplotlib.pyplot as plt\n"
   ]
  },
  {
   "cell_type": "markdown",
   "metadata": {},
   "source": [
    "Прочитаем датасет"
   ]
  },
  {
   "cell_type": "code",
   "execution_count": 2,
   "metadata": {},
   "outputs": [],
   "source": [
    "#data = pd.read_csv('/datasets/taxi.csv')\n",
    "data = pd.read_csv('/datasets/taxi.csv', index_col=[0], parse_dates=[0])\n",
    "#data.sort_index(inplace=True)"
   ]
  },
  {
   "cell_type": "code",
   "execution_count": 3,
   "metadata": {},
   "outputs": [
    {
     "name": "stdout",
     "output_type": "stream",
     "text": [
      "<class 'pandas.core.frame.DataFrame'>\n",
      "DatetimeIndex: 26496 entries, 2018-03-01 00:00:00 to 2018-08-31 23:50:00\n",
      "Data columns (total 1 columns):\n",
      "num_orders    26496 non-null int64\n",
      "dtypes: int64(1)\n",
      "memory usage: 414.0 KB\n"
     ]
    }
   ],
   "source": [
    "data.info()"
   ]
  },
  {
   "cell_type": "markdown",
   "metadata": {},
   "source": [
    "Проведём ресемплирование по одному часу:"
   ]
  },
  {
   "cell_type": "code",
   "execution_count": 4,
   "metadata": {},
   "outputs": [
    {
     "data": {
      "text/html": [
       "<div>\n",
       "<style scoped>\n",
       "    .dataframe tbody tr th:only-of-type {\n",
       "        vertical-align: middle;\n",
       "    }\n",
       "\n",
       "    .dataframe tbody tr th {\n",
       "        vertical-align: top;\n",
       "    }\n",
       "\n",
       "    .dataframe thead th {\n",
       "        text-align: right;\n",
       "    }\n",
       "</style>\n",
       "<table border=\"1\" class=\"dataframe\">\n",
       "  <thead>\n",
       "    <tr style=\"text-align: right;\">\n",
       "      <th></th>\n",
       "      <th>num_orders</th>\n",
       "    </tr>\n",
       "    <tr>\n",
       "      <th>datetime</th>\n",
       "      <th></th>\n",
       "    </tr>\n",
       "  </thead>\n",
       "  <tbody>\n",
       "    <tr>\n",
       "      <td>2018-03-01 00:00:00</td>\n",
       "      <td>9</td>\n",
       "    </tr>\n",
       "    <tr>\n",
       "      <td>2018-03-01 00:10:00</td>\n",
       "      <td>14</td>\n",
       "    </tr>\n",
       "    <tr>\n",
       "      <td>2018-03-01 00:20:00</td>\n",
       "      <td>28</td>\n",
       "    </tr>\n",
       "    <tr>\n",
       "      <td>2018-03-01 00:30:00</td>\n",
       "      <td>20</td>\n",
       "    </tr>\n",
       "    <tr>\n",
       "      <td>2018-03-01 00:40:00</td>\n",
       "      <td>32</td>\n",
       "    </tr>\n",
       "    <tr>\n",
       "      <td>2018-03-01 00:50:00</td>\n",
       "      <td>21</td>\n",
       "    </tr>\n",
       "    <tr>\n",
       "      <td>2018-03-01 01:00:00</td>\n",
       "      <td>7</td>\n",
       "    </tr>\n",
       "    <tr>\n",
       "      <td>2018-03-01 01:10:00</td>\n",
       "      <td>5</td>\n",
       "    </tr>\n",
       "    <tr>\n",
       "      <td>2018-03-01 01:20:00</td>\n",
       "      <td>17</td>\n",
       "    </tr>\n",
       "    <tr>\n",
       "      <td>2018-03-01 01:30:00</td>\n",
       "      <td>12</td>\n",
       "    </tr>\n",
       "  </tbody>\n",
       "</table>\n",
       "</div>"
      ],
      "text/plain": [
       "                     num_orders\n",
       "datetime                       \n",
       "2018-03-01 00:00:00           9\n",
       "2018-03-01 00:10:00          14\n",
       "2018-03-01 00:20:00          28\n",
       "2018-03-01 00:30:00          20\n",
       "2018-03-01 00:40:00          32\n",
       "2018-03-01 00:50:00          21\n",
       "2018-03-01 01:00:00           7\n",
       "2018-03-01 01:10:00           5\n",
       "2018-03-01 01:20:00          17\n",
       "2018-03-01 01:30:00          12"
      ]
     },
     "execution_count": 4,
     "metadata": {},
     "output_type": "execute_result"
    }
   ],
   "source": [
    "data.head(10)"
   ]
  },
  {
   "cell_type": "code",
   "execution_count": 5,
   "metadata": {},
   "outputs": [
    {
     "name": "stdout",
     "output_type": "stream",
     "text": [
      "<class 'pandas.core.frame.DataFrame'>\n",
      "DatetimeIndex: 26496 entries, 2018-03-01 00:00:00 to 2018-08-31 23:50:00\n",
      "Data columns (total 1 columns):\n",
      "num_orders    26496 non-null int64\n",
      "dtypes: int64(1)\n",
      "memory usage: 414.0 KB\n"
     ]
    }
   ],
   "source": [
    "data.info()"
   ]
  },
  {
   "cell_type": "markdown",
   "metadata": {},
   "source": [
    "Проведём ресемплинг по каждому часу"
   ]
  },
  {
   "cell_type": "code",
   "execution_count": 6,
   "metadata": {},
   "outputs": [
    {
     "data": {
      "text/html": [
       "<div>\n",
       "<style scoped>\n",
       "    .dataframe tbody tr th:only-of-type {\n",
       "        vertical-align: middle;\n",
       "    }\n",
       "\n",
       "    .dataframe tbody tr th {\n",
       "        vertical-align: top;\n",
       "    }\n",
       "\n",
       "    .dataframe thead th {\n",
       "        text-align: right;\n",
       "    }\n",
       "</style>\n",
       "<table border=\"1\" class=\"dataframe\">\n",
       "  <thead>\n",
       "    <tr style=\"text-align: right;\">\n",
       "      <th></th>\n",
       "      <th>num_orders</th>\n",
       "    </tr>\n",
       "    <tr>\n",
       "      <th>datetime</th>\n",
       "      <th></th>\n",
       "    </tr>\n",
       "  </thead>\n",
       "  <tbody>\n",
       "    <tr>\n",
       "      <td>2018-03-01 00:00:00</td>\n",
       "      <td>124</td>\n",
       "    </tr>\n",
       "    <tr>\n",
       "      <td>2018-03-01 01:00:00</td>\n",
       "      <td>85</td>\n",
       "    </tr>\n",
       "    <tr>\n",
       "      <td>2018-03-01 02:00:00</td>\n",
       "      <td>71</td>\n",
       "    </tr>\n",
       "    <tr>\n",
       "      <td>2018-03-01 03:00:00</td>\n",
       "      <td>66</td>\n",
       "    </tr>\n",
       "    <tr>\n",
       "      <td>2018-03-01 04:00:00</td>\n",
       "      <td>43</td>\n",
       "    </tr>\n",
       "    <tr>\n",
       "      <td>2018-03-01 05:00:00</td>\n",
       "      <td>6</td>\n",
       "    </tr>\n",
       "    <tr>\n",
       "      <td>2018-03-01 06:00:00</td>\n",
       "      <td>12</td>\n",
       "    </tr>\n",
       "    <tr>\n",
       "      <td>2018-03-01 07:00:00</td>\n",
       "      <td>15</td>\n",
       "    </tr>\n",
       "    <tr>\n",
       "      <td>2018-03-01 08:00:00</td>\n",
       "      <td>34</td>\n",
       "    </tr>\n",
       "    <tr>\n",
       "      <td>2018-03-01 09:00:00</td>\n",
       "      <td>69</td>\n",
       "    </tr>\n",
       "  </tbody>\n",
       "</table>\n",
       "</div>"
      ],
      "text/plain": [
       "                     num_orders\n",
       "datetime                       \n",
       "2018-03-01 00:00:00         124\n",
       "2018-03-01 01:00:00          85\n",
       "2018-03-01 02:00:00          71\n",
       "2018-03-01 03:00:00          66\n",
       "2018-03-01 04:00:00          43\n",
       "2018-03-01 05:00:00           6\n",
       "2018-03-01 06:00:00          12\n",
       "2018-03-01 07:00:00          15\n",
       "2018-03-01 08:00:00          34\n",
       "2018-03-01 09:00:00          69"
      ]
     },
     "execution_count": 6,
     "metadata": {},
     "output_type": "execute_result"
    }
   ],
   "source": [
    "data = data.resample('1H').sum()\n",
    "data.head(10)"
   ]
  },
  {
   "cell_type": "code",
   "execution_count": 7,
   "metadata": {},
   "outputs": [
    {
     "data": {
      "text/html": [
       "<div>\n",
       "<style scoped>\n",
       "    .dataframe tbody tr th:only-of-type {\n",
       "        vertical-align: middle;\n",
       "    }\n",
       "\n",
       "    .dataframe tbody tr th {\n",
       "        vertical-align: top;\n",
       "    }\n",
       "\n",
       "    .dataframe thead th {\n",
       "        text-align: right;\n",
       "    }\n",
       "</style>\n",
       "<table border=\"1\" class=\"dataframe\">\n",
       "  <thead>\n",
       "    <tr style=\"text-align: right;\">\n",
       "      <th></th>\n",
       "      <th>num_orders</th>\n",
       "    </tr>\n",
       "  </thead>\n",
       "  <tbody>\n",
       "    <tr>\n",
       "      <td>count</td>\n",
       "      <td>4416.000000</td>\n",
       "    </tr>\n",
       "    <tr>\n",
       "      <td>mean</td>\n",
       "      <td>84.422781</td>\n",
       "    </tr>\n",
       "    <tr>\n",
       "      <td>std</td>\n",
       "      <td>45.023853</td>\n",
       "    </tr>\n",
       "    <tr>\n",
       "      <td>min</td>\n",
       "      <td>0.000000</td>\n",
       "    </tr>\n",
       "    <tr>\n",
       "      <td>25%</td>\n",
       "      <td>54.000000</td>\n",
       "    </tr>\n",
       "    <tr>\n",
       "      <td>50%</td>\n",
       "      <td>78.000000</td>\n",
       "    </tr>\n",
       "    <tr>\n",
       "      <td>75%</td>\n",
       "      <td>107.000000</td>\n",
       "    </tr>\n",
       "    <tr>\n",
       "      <td>max</td>\n",
       "      <td>462.000000</td>\n",
       "    </tr>\n",
       "  </tbody>\n",
       "</table>\n",
       "</div>"
      ],
      "text/plain": [
       "        num_orders\n",
       "count  4416.000000\n",
       "mean     84.422781\n",
       "std      45.023853\n",
       "min       0.000000\n",
       "25%      54.000000\n",
       "50%      78.000000\n",
       "75%     107.000000\n",
       "max     462.000000"
      ]
     },
     "execution_count": 7,
     "metadata": {},
     "output_type": "execute_result"
    }
   ],
   "source": [
    "data.describe()"
   ]
  },
  {
   "cell_type": "code",
   "execution_count": 8,
   "metadata": {},
   "outputs": [
    {
     "name": "stdout",
     "output_type": "stream",
     "text": [
      "<class 'pandas.core.frame.DataFrame'>\n",
      "DatetimeIndex: 4416 entries, 2018-03-01 00:00:00 to 2018-08-31 23:00:00\n",
      "Freq: H\n",
      "Data columns (total 1 columns):\n",
      "num_orders    4416 non-null int64\n",
      "dtypes: int64(1)\n",
      "memory usage: 69.0 KB\n"
     ]
    }
   ],
   "source": [
    "data.info()"
   ]
  },
  {
   "cell_type": "code",
   "execution_count": 9,
   "metadata": {},
   "outputs": [
    {
     "data": {
      "text/plain": [
       "0"
      ]
     },
     "execution_count": 9,
     "metadata": {},
     "output_type": "execute_result"
    }
   ],
   "source": [
    "data = data.dropna(subset = ['num_orders'])\n",
    "data['num_orders'].isnull().sum()"
   ]
  },
  {
   "cell_type": "code",
   "execution_count": 10,
   "metadata": {},
   "outputs": [
    {
     "data": {
      "text/html": [
       "<div>\n",
       "<style scoped>\n",
       "    .dataframe tbody tr th:only-of-type {\n",
       "        vertical-align: middle;\n",
       "    }\n",
       "\n",
       "    .dataframe tbody tr th {\n",
       "        vertical-align: top;\n",
       "    }\n",
       "\n",
       "    .dataframe thead th {\n",
       "        text-align: right;\n",
       "    }\n",
       "</style>\n",
       "<table border=\"1\" class=\"dataframe\">\n",
       "  <thead>\n",
       "    <tr style=\"text-align: right;\">\n",
       "      <th></th>\n",
       "      <th>num_orders</th>\n",
       "    </tr>\n",
       "    <tr>\n",
       "      <th>datetime</th>\n",
       "      <th></th>\n",
       "    </tr>\n",
       "  </thead>\n",
       "  <tbody>\n",
       "    <tr>\n",
       "      <td>2018-03-01 00:00:00</td>\n",
       "      <td>124</td>\n",
       "    </tr>\n",
       "    <tr>\n",
       "      <td>2018-03-01 01:00:00</td>\n",
       "      <td>85</td>\n",
       "    </tr>\n",
       "    <tr>\n",
       "      <td>2018-03-01 02:00:00</td>\n",
       "      <td>71</td>\n",
       "    </tr>\n",
       "    <tr>\n",
       "      <td>2018-03-01 03:00:00</td>\n",
       "      <td>66</td>\n",
       "    </tr>\n",
       "    <tr>\n",
       "      <td>2018-03-01 04:00:00</td>\n",
       "      <td>43</td>\n",
       "    </tr>\n",
       "    <tr>\n",
       "      <td>...</td>\n",
       "      <td>...</td>\n",
       "    </tr>\n",
       "    <tr>\n",
       "      <td>2018-03-04 23:00:00</td>\n",
       "      <td>68</td>\n",
       "    </tr>\n",
       "    <tr>\n",
       "      <td>2018-03-05 00:00:00</td>\n",
       "      <td>86</td>\n",
       "    </tr>\n",
       "    <tr>\n",
       "      <td>2018-03-05 01:00:00</td>\n",
       "      <td>176</td>\n",
       "    </tr>\n",
       "    <tr>\n",
       "      <td>2018-03-05 02:00:00</td>\n",
       "      <td>32</td>\n",
       "    </tr>\n",
       "    <tr>\n",
       "      <td>2018-03-05 03:00:00</td>\n",
       "      <td>51</td>\n",
       "    </tr>\n",
       "  </tbody>\n",
       "</table>\n",
       "<p>100 rows × 1 columns</p>\n",
       "</div>"
      ],
      "text/plain": [
       "                     num_orders\n",
       "datetime                       \n",
       "2018-03-01 00:00:00         124\n",
       "2018-03-01 01:00:00          85\n",
       "2018-03-01 02:00:00          71\n",
       "2018-03-01 03:00:00          66\n",
       "2018-03-01 04:00:00          43\n",
       "...                         ...\n",
       "2018-03-04 23:00:00          68\n",
       "2018-03-05 00:00:00          86\n",
       "2018-03-05 01:00:00         176\n",
       "2018-03-05 02:00:00          32\n",
       "2018-03-05 03:00:00          51\n",
       "\n",
       "[100 rows x 1 columns]"
      ]
     },
     "execution_count": 10,
     "metadata": {},
     "output_type": "execute_result"
    }
   ],
   "source": [
    "data.head(100)"
   ]
  },
  {
   "cell_type": "markdown",
   "metadata": {},
   "source": [
    "## Анализ данных"
   ]
  },
  {
   "cell_type": "markdown",
   "metadata": {},
   "source": [
    "Построим декомпозицию для каждого месяца"
   ]
  },
  {
   "cell_type": "code",
   "execution_count": 11,
   "metadata": {},
   "outputs": [
    {
     "data": {
      "text/plain": [
       "<matplotlib.axes._subplots.AxesSubplot at 0x7f15b2db6050>"
      ]
     },
     "execution_count": 11,
     "metadata": {},
     "output_type": "execute_result"
    },
    {
     "data": {
      "image/png": "[encoded data removed]",
      "text/plain": [
       "<Figure size 432x288 with 1 Axes>"
      ]
     },
     "metadata": {
      "needs_background": "light"
     },
     "output_type": "display_data"
    }
   ],
   "source": [
    "decomposed = seasonal_decompose(data)\n",
    "\n",
    "decomposed.seasonal['2018-03-01':'2018-03-01'].plot()"
   ]
  },
  {
   "cell_type": "code",
   "execution_count": 12,
   "metadata": {},
   "outputs": [
    {
     "data": {
      "text/plain": [
       "<matplotlib.axes._subplots.AxesSubplot at 0x7f15260868d0>"
      ]
     },
     "execution_count": 12,
     "metadata": {},
     "output_type": "execute_result"
    },
    {
     "data": {
      "image/png": "[encoded data removed]",
      "text/plain": [
       "<Figure size 432x288 with 1 Axes>"
      ]
     },
     "metadata": {
      "needs_background": "light"
     },
     "output_type": "display_data"
    }
   ],
   "source": [
    "decomposed.seasonal['2018-04-01':'2018-04-30'].plot()"
   ]
  },
  {
   "cell_type": "code",
   "execution_count": 13,
   "metadata": {},
   "outputs": [
    {
     "data": {
      "text/plain": [
       "<matplotlib.axes._subplots.AxesSubplot at 0x7f152590bf50>"
      ]
     },
     "execution_count": 13,
     "metadata": {},
     "output_type": "execute_result"
    },
    {
     "data": {
      "image/png": "[encoded data removed]",
      "text/plain": [
       "<Figure size 432x288 with 1 Axes>"
      ]
     },
     "metadata": {
      "needs_background": "light"
     },
     "output_type": "display_data"
    }
   ],
   "source": [
    "decomposed.seasonal['2018-05-01':'2018-05-31'].plot()"
   ]
  },
  {
   "cell_type": "code",
   "execution_count": 14,
   "metadata": {},
   "outputs": [
    {
     "data": {
      "text/plain": [
       "<matplotlib.axes._subplots.AxesSubplot at 0x7f1525844550>"
      ]
     },
     "execution_count": 14,
     "metadata": {},
     "output_type": "execute_result"
    },
    {
     "data": {
      "image/png": "[encoded data removed]",
      "text/plain": [
       "<Figure size 432x288 with 1 Axes>"
      ]
     },
     "metadata": {
      "needs_background": "light"
     },
     "output_type": "display_data"
    }
   ],
   "source": [
    "decomposed.seasonal['2018-06-01':'2018-06-30'].plot()"
   ]
  },
  {
   "cell_type": "code",
   "execution_count": 15,
   "metadata": {},
   "outputs": [
    {
     "data": {
      "text/plain": [
       "<matplotlib.axes._subplots.AxesSubplot at 0x7f152578bf10>"
      ]
     },
     "execution_count": 15,
     "metadata": {},
     "output_type": "execute_result"
    },
    {
     "data": {
      "image/png": "[encoded data removed]",
      "text/plain": [
       "<Figure size 432x288 with 1 Axes>"
      ]
     },
     "metadata": {
      "needs_background": "light"
     },
     "output_type": "display_data"
    }
   ],
   "source": [
    "decomposed.seasonal['2018-07-01':'2018-07-31'].plot()"
   ]
  },
  {
   "cell_type": "code",
   "execution_count": 16,
   "metadata": {},
   "outputs": [
    {
     "data": {
      "text/plain": [
       "<matplotlib.axes._subplots.AxesSubplot at 0x7f15256d0b10>"
      ]
     },
     "execution_count": 16,
     "metadata": {},
     "output_type": "execute_result"
    },
    {
     "data": {
      "image/png": "[encoded data removed]",
      "text/plain": [
       "<Figure size 432x288 with 1 Axes>"
      ]
     },
     "metadata": {
      "needs_background": "light"
     },
     "output_type": "display_data"
    }
   ],
   "source": [
    "decomposed.seasonal['2018-08-01':'2018-08-31'].plot()"
   ]
  },
  {
   "cell_type": "markdown",
   "metadata": {},
   "source": [
    "Посмотрим так же и для десяти дней апреля месяца"
   ]
  },
  {
   "cell_type": "code",
   "execution_count": 17,
   "metadata": {},
   "outputs": [
    {
     "data": {
      "text/plain": [
       "<matplotlib.axes._subplots.AxesSubplot at 0x7f1525616550>"
      ]
     },
     "execution_count": 17,
     "metadata": {},
     "output_type": "execute_result"
    },
    {
     "data": {
      "image/png": "[encoded data removed]",
      "text/plain": [
       "<Figure size 432x288 with 1 Axes>"
      ]
     },
     "metadata": {
      "needs_background": "light"
     },
     "output_type": "display_data"
    }
   ],
   "source": [
    "decomposed.seasonal['2018-04-01':'2018-04-10'].plot()"
   ]
  },
  {
   "cell_type": "markdown",
   "metadata": {},
   "source": [
    "Наблюдаем сезонность по дням. Выводы по месячной сезонности делать не можем, так как не хватает данных - их меньше года.\n",
    "Стохастический процесс"
   ]
  },
  {
   "cell_type": "markdown",
   "metadata": {},
   "source": [
    "## Обучение моделей"
   ]
  },
  {
   "cell_type": "markdown",
   "metadata": {},
   "source": [
    "Создадим признаки для горизонта прогнозирования в один шаг.\n",
    "Напишем функцию для создания признаков."
   ]
  },
  {
   "cell_type": "code",
   "execution_count": 18,
   "metadata": {},
   "outputs": [],
   "source": [
    "def make_features(data, max_lag, rolling_mean_size):\n",
    "    data['dayofweek'] = data.index.dayofweek\n",
    "    data['hour'] = data.index.hour\n",
    "    \n",
    "    for lag in range(1, max_lag + 1):\n",
    "        data['lag_{}'.format(lag)] = data['num_orders'].shift(lag)\n",
    "\n",
    "    data['rolling_mean'] = data['num_orders'].shift().rolling(rolling_mean_size).mean()\n",
    "\n",
    "\n",
    "make_features(data, 2, 24)"
   ]
  },
  {
   "cell_type": "markdown",
   "metadata": {},
   "source": [
    "Проверим на модели Линейной Регрессии"
   ]
  },
  {
   "cell_type": "code",
   "execution_count": 19,
   "metadata": {},
   "outputs": [
    {
     "name": "stdout",
     "output_type": "stream",
     "text": [
      "MAE обучающей выборки: 22.776263666099975\n",
      "MAE тестовой выборки:  35.09421392180191\n",
      "RMSE обучающей выборки: 29.33311504642901\n",
      "RMSE тестовой выборки: 46.6829464887083\n"
     ]
    }
   ],
   "source": [
    "train, test = train_test_split(data, shuffle=False, test_size=0.2)\n",
    "train = train.dropna()\n",
    "\n",
    "target_train = train['num_orders']\n",
    "features_train = train.drop(['num_orders'],axis = 1)\n",
    "\n",
    "target_test = test['num_orders']\n",
    "features_test = test.drop(['num_orders'],axis = 1)\n",
    "\n",
    "model = LinearRegression()\n",
    "model.fit(features_train,target_train)\n",
    "\n",
    "predicted_train = model.predict(features_train)\n",
    "predicted_test = model.predict(features_test)\n",
    "\n",
    "print(\"MAE обучающей выборки:\", mean_absolute_error(target_train,predicted_train))\n",
    "print(\"MAE тестовой выборки: \", mean_absolute_error(target_test,predicted_test))\n",
    "print(\"RMSE обучающей выборки:\", mean_squared_error(target_train,predicted_train)**0.5)\n",
    "print(\"RMSE тестовой выборки:\", mean_squared_error(target_test,predicted_test)**0.5)"
   ]
  },
  {
   "cell_type": "markdown",
   "metadata": {},
   "source": [
    "Построим по два графика - недельный прогноз и двухдневный для каждой модели"
   ]
  },
  {
   "cell_type": "code",
   "execution_count": 37,
   "metadata": {},
   "outputs": [
    {
     "data": {
      "text/plain": [
       "Text(0, 0.5, 'Число заказов')"
      ]
     },
     "execution_count": 37,
     "metadata": {},
     "output_type": "execute_result"
    },
    {
     "data": {
      "image/png": "[encoded data removed]",
      "text/plain": [
       "<Figure size 576x216 with 1 Axes>"
      ]
     },
     "metadata": {
      "needs_background": "light"
     },
     "output_type": "display_data"
    }
   ],
   "source": [
    "predictions1 = pd.Series(predicted_test)\n",
    "predictions1.index = target_test.index\n",
    "\n",
    "fig2, ax = plt.subplots(figsize=(8, 3))\n",
    "ax = sns.lineplot(data=target_test, label='Реальные')\n",
    "sns.lineplot(data=predictions, color='green', label='Предсказанные')\n",
    "plt.xticks(rotation=240)\n",
    "plt.xlim('2018-08-20', '2018-08-27')\n",
    "plt.title('Результаты модели, неделя')\n",
    "plt.xlabel('Дата и время')\n",
    "plt.ylabel('Число заказов')"
   ]
  },
  {
   "cell_type": "code",
   "execution_count": 36,
   "metadata": {},
   "outputs": [
    {
     "data": {
      "text/plain": [
       "Text(0, 0.5, 'Число заказов')"
      ]
     },
     "execution_count": 36,
     "metadata": {},
     "output_type": "execute_result"
    },
    {
     "data": {
      "image/png": "[encoded data removed]",
      "text/plain": [
       "<Figure size 576x216 with 1 Axes>"
      ]
     },
     "metadata": {
      "needs_background": "light"
     },
     "output_type": "display_data"
    }
   ],
   "source": [
    "predictions1= pd.Series(predicted_test)\n",
    "predictions1.index = target_test.index\n",
    "\n",
    "fig2, ax = plt.subplots(figsize=(8, 3))\n",
    "ax = sns.lineplot(data=target_test, label='Реальные')\n",
    "sns.lineplot(data=predictions, color='green', label='Предсказанные')\n",
    "plt.xticks(rotation=90)\n",
    "plt.xlim('2018-08-20', '2018-08-22')\n",
    "plt.title('Результаты модели, неделя')\n",
    "plt.xlabel('Дата и время')\n",
    "plt.ylabel('Число заказов')"
   ]
  },
  {
   "cell_type": "markdown",
   "metadata": {},
   "source": [
    "Теперь проверим на модели Случайного леса"
   ]
  },
  {
   "cell_type": "code",
   "execution_count": 33,
   "metadata": {},
   "outputs": [
    {
     "name": "stdout",
     "output_type": "stream",
     "text": [
      "MAE обучающей выборки: 15.435873526749157 ; MAE тестовой выборки: 33.32638350389523 ; Количество деревьев: 63 ; Максимальная глубина: 7\n",
      "RMSE обучающей выборки: 20.115250294407804\n",
      "RMSE тестовой выборки: 47.08536191552764\n"
     ]
    }
   ],
   "source": [
    "best_model = None\n",
    "best_result = 10000\n",
    "best_est = 0\n",
    "best_depth = 0\n",
    "best_model1 = None\n",
    "best_result1 = 10000\n",
    "best_est1 = 0\n",
    "best_depth1 = 0\n",
    "for est in range(1, 70, 1):\n",
    "    for depth in range (1, 8):\n",
    "        model =   RandomForestRegressor(random_state=12345,n_estimators=est, max_depth= depth)\n",
    "        model.fit(features_train,target_train) \n",
    "  #      predictions_test1= model.predict(features_test) \n",
    "        predicted_train2 = model.predict(features_train)\n",
    "        predicted_test2 = model.predict(features_test)\n",
    "        result = mean_absolute_error(target_train,predicted_train2)\n",
    "        result_test = mean_absolute_error(target_test,predicted_test2)\n",
    "        if result < best_result:\n",
    "            best_model = model\n",
    "            best_result = result\n",
    "            best_est = est\n",
    "            best_depth = depth\n",
    "        if result_test < best_result1:\n",
    "            best_model1 = model\n",
    "            best_result1 = result_test\n",
    "            best_est1 = est\n",
    "            best_depth1 = depth   \n",
    "print(\"MAE обучающей выборки:\",result,\";\",\"MAE тестовой выборки:\",result_test,\";\" ,\"Количество деревьев:\", best_est, \";\",\"Максимальная глубина:\",depth)     \n",
    "print(\"RMSE обучающей выборки:\", mean_squared_error(target_train,predicted_train2)**0.5)\n",
    "print(\"RMSE тестовой выборки:\", mean_squared_error(target_test,predicted_test2)**0.5)"
   ]
  },
  {
   "cell_type": "code",
   "execution_count": 34,
   "metadata": {},
   "outputs": [
    {
     "data": {
      "text/plain": [
       "Text(0, 0.5, 'Число заказов')"
      ]
     },
     "execution_count": 34,
     "metadata": {},
     "output_type": "execute_result"
    },
    {
     "data": {
      "image/png": "[encoded data removed]",
      "text/plain": [
       "<Figure size 576x216 with 1 Axes>"
      ]
     },
     "metadata": {
      "needs_background": "light"
     },
     "output_type": "display_data"
    }
   ],
   "source": [
    "predictions = pd.Series(predicted_test2)\n",
    "predictions.index = target_test.index\n",
    "\n",
    "fig2, ax = plt.subplots(figsize=(8, 3))\n",
    "ax = sns.lineplot(data=target_test, label='Реальные')\n",
    "sns.lineplot(data=predictions, color='green', label='Предсказанные')\n",
    "plt.xticks(rotation=240)\n",
    "plt.xlim('2018-08-20', '2018-08-27')\n",
    "plt.title('Результаты модели, неделя')\n",
    "plt.xlabel('Дата и время')\n",
    "plt.ylabel('Число заказов')"
   ]
  },
  {
   "cell_type": "code",
   "execution_count": 38,
   "metadata": {},
   "outputs": [
    {
     "data": {
      "text/plain": [
       "Text(0, 0.5, 'Число заказов')"
      ]
     },
     "execution_count": 38,
     "metadata": {},
     "output_type": "execute_result"
    },
    {
     "data": {
      "image/png": "[encoded data removed]",
      "text/plain": [
       "<Figure size 576x216 with 1 Axes>"
      ]
     },
     "metadata": {
      "needs_background": "light"
     },
     "output_type": "display_data"
    }
   ],
   "source": [
    "predictions = pd.Series(predicted_test2)\n",
    "predictions.index = target_test.index\n",
    "\n",
    "fig2, ax = plt.subplots(figsize=(8, 3))\n",
    "ax = sns.lineplot(data=target_test, label='Реальные')\n",
    "sns.lineplot(data=predictions, color='green', label='Предсказанные')\n",
    "plt.xticks(rotation=90)\n",
    "plt.xlim('2018-08-20', '2018-08-22')\n",
    "plt.title('Результаты модели, два дня')\n",
    "plt.xlabel('Дата и время')\n",
    "plt.ylabel('Число заказов')"
   ]
  },
  {
   "cell_type": "markdown",
   "metadata": {},
   "source": [
    "Значение RMSE тестовой выборки удалось получить меньше, чем 48 для обоих моделей. Предсказания у \"случ"
   ]
  },
  {
   "cell_type": "markdown",
   "metadata": {},
   "source": [
    "## Чек-лист проекта"
   ]
  },
  {
   "cell_type": "markdown",
   "metadata": {},
   "source": [
    "- [x]  Jupyter Notebook открыт\n",
    "- [x]  Весь код выполняется без ошибок\n",
    "- [x]  Ячейки с кодом расположены в порядке исполнения\n",
    "- [x]  Данные загружены и подготовлены\n",
    "- [x]  Данные проанализированы\n",
    "- [x]  Модель обучена, гиперпараметры подобраны\n",
    "- [x]  Качество моделей проверено, выводы сделаны\n",
    "- [x]  Значение *RMSE* на тестовой выборке не больше 48"
   ]
  }
 ],
 "metadata": {
  "ExecuteTimeLog": [
   {
    "duration": 974,
    "start_time": "2021-09-30T07:15:29.651Z"
   },
   {
    "duration": 281,
    "start_time": "2021-09-30T07:16:11.864Z"
   },
   {
    "duration": 31,
    "start_time": "2021-09-30T07:16:48.227Z"
   },
   {
    "duration": 8,
    "start_time": "2021-09-30T07:17:16.418Z"
   },
   {
    "duration": 829,
    "start_time": "2021-09-30T07:18:14.975Z"
   },
   {
    "duration": 196,
    "start_time": "2021-09-30T07:19:07.740Z"
   },
   {
    "duration": 15,
    "start_time": "2021-09-30T07:19:30.156Z"
   },
   {
    "duration": 187,
    "start_time": "2021-09-30T07:20:59.687Z"
   },
   {
    "duration": 8,
    "start_time": "2021-09-30T07:21:27.073Z"
   },
   {
    "duration": 186,
    "start_time": "2021-09-30T07:22:19.730Z"
   },
   {
    "duration": 978,
    "start_time": "2021-09-30T07:24:47.721Z"
   },
   {
    "duration": 37,
    "start_time": "2021-09-30T07:24:48.701Z"
   },
   {
    "duration": 7,
    "start_time": "2021-09-30T07:24:48.741Z"
   },
   {
    "duration": 13,
    "start_time": "2021-09-30T07:24:48.750Z"
   },
   {
    "duration": 5242,
    "start_time": "2021-09-30T07:24:48.765Z"
   },
   {
    "duration": 7473,
    "start_time": "2021-09-30T07:24:46.535Z"
   },
   {
    "duration": 986,
    "start_time": "2021-09-30T07:25:05.242Z"
   },
   {
    "duration": 39,
    "start_time": "2021-09-30T07:25:06.230Z"
   },
   {
    "duration": 7,
    "start_time": "2021-09-30T07:25:06.271Z"
   },
   {
    "duration": 22,
    "start_time": "2021-09-30T07:25:06.281Z"
   },
   {
    "duration": 2,
    "start_time": "2021-09-30T07:25:06.305Z"
   },
   {
    "duration": 23,
    "start_time": "2021-09-30T07:25:06.308Z"
   },
   {
    "duration": 106,
    "start_time": "2021-09-30T07:32:57.736Z"
   },
   {
    "duration": 12,
    "start_time": "2021-09-30T07:33:47.615Z"
   },
   {
    "duration": 334,
    "start_time": "2021-09-30T07:34:52.696Z"
   },
   {
    "duration": 74,
    "start_time": "2021-09-30T07:35:20.976Z"
   },
   {
    "duration": 188,
    "start_time": "2021-09-30T07:35:24.569Z"
   },
   {
    "duration": 737,
    "start_time": "2021-09-30T07:38:38.227Z"
   },
   {
    "duration": 38,
    "start_time": "2021-09-30T07:40:28.673Z"
   },
   {
    "duration": 1172,
    "start_time": "2021-09-30T07:40:57.513Z"
   },
   {
    "duration": 37,
    "start_time": "2021-09-30T07:40:58.686Z"
   },
   {
    "duration": 6,
    "start_time": "2021-09-30T07:40:58.725Z"
   },
   {
    "duration": 10,
    "start_time": "2021-09-30T07:40:58.732Z"
   },
   {
    "duration": 12,
    "start_time": "2021-09-30T07:40:58.744Z"
   },
   {
    "duration": 300,
    "start_time": "2021-09-30T07:40:58.758Z"
   },
   {
    "duration": 188,
    "start_time": "2021-09-30T07:42:24.570Z"
   },
   {
    "duration": 5,
    "start_time": "2021-09-30T07:42:53.602Z"
   },
   {
    "duration": 12,
    "start_time": "2021-09-30T07:42:59.695Z"
   },
   {
    "duration": 456,
    "start_time": "2021-09-30T07:43:10.367Z"
   },
   {
    "duration": 193,
    "start_time": "2021-09-30T07:45:36.301Z"
   },
   {
    "duration": 9,
    "start_time": "2021-09-30T07:45:46.887Z"
   },
   {
    "duration": 218,
    "start_time": "2021-09-30T07:46:07.215Z"
   },
   {
    "duration": 201,
    "start_time": "2021-09-30T07:46:11.898Z"
   },
   {
    "duration": 259,
    "start_time": "2021-09-30T07:46:32.376Z"
   },
   {
    "duration": 357,
    "start_time": "2021-09-30T07:47:10.989Z"
   },
   {
    "duration": 356,
    "start_time": "2021-09-30T07:47:27.185Z"
   },
   {
    "duration": 188,
    "start_time": "2021-09-30T08:07:38.675Z"
   },
   {
    "duration": 289,
    "start_time": "2021-09-30T08:09:42.465Z"
   },
   {
    "duration": 8,
    "start_time": "2021-09-30T08:14:04.660Z"
   },
   {
    "duration": 11,
    "start_time": "2021-09-30T08:14:14.237Z"
   },
   {
    "duration": 258,
    "start_time": "2021-09-30T08:14:22.852Z"
   },
   {
    "duration": 329,
    "start_time": "2021-09-30T08:15:06.051Z"
   },
   {
    "duration": 281,
    "start_time": "2021-09-30T08:15:14.864Z"
   },
   {
    "duration": 237,
    "start_time": "2021-09-30T08:15:25.383Z"
   },
   {
    "duration": 2686,
    "start_time": "2021-09-30T08:15:42.424Z"
   },
   {
    "duration": 276,
    "start_time": "2021-09-30T08:15:57.275Z"
   },
   {
    "duration": 2545,
    "start_time": "2021-09-30T08:16:09.117Z"
   },
   {
    "duration": 277,
    "start_time": "2021-09-30T08:16:24.584Z"
   },
   {
    "duration": 282,
    "start_time": "2021-09-30T08:17:09.693Z"
   },
   {
    "duration": 283,
    "start_time": "2021-09-30T08:17:56.160Z"
   },
   {
    "duration": 279,
    "start_time": "2021-09-30T08:18:02.520Z"
   },
   {
    "duration": 351,
    "start_time": "2021-09-30T08:18:06.497Z"
   },
   {
    "duration": 211,
    "start_time": "2021-09-30T08:18:21.132Z"
   },
   {
    "duration": 291,
    "start_time": "2021-09-30T08:20:10.408Z"
   },
   {
    "duration": 1173,
    "start_time": "2021-09-30T08:27:38.032Z"
   },
   {
    "duration": 37,
    "start_time": "2021-09-30T08:27:39.207Z"
   },
   {
    "duration": 6,
    "start_time": "2021-09-30T08:27:39.246Z"
   },
   {
    "duration": 18,
    "start_time": "2021-09-30T08:27:39.254Z"
   },
   {
    "duration": 25,
    "start_time": "2021-09-30T08:27:39.274Z"
   },
   {
    "duration": 302,
    "start_time": "2021-09-30T08:27:39.301Z"
   },
   {
    "duration": 366,
    "start_time": "2021-09-30T08:27:39.605Z"
   },
   {
    "duration": 316,
    "start_time": "2021-09-30T08:27:39.973Z"
   },
   {
    "duration": 305,
    "start_time": "2021-09-30T08:27:40.291Z"
   },
   {
    "duration": 312,
    "start_time": "2021-09-30T08:27:40.598Z"
   },
   {
    "duration": 301,
    "start_time": "2021-09-30T08:27:40.911Z"
   },
   {
    "duration": 230,
    "start_time": "2021-09-30T08:27:41.214Z"
   },
   {
    "duration": 329,
    "start_time": "2021-09-30T08:27:41.446Z"
   },
   {
    "duration": 216,
    "start_time": "2021-09-30T08:28:37.557Z"
   },
   {
    "duration": 455,
    "start_time": "2021-10-01T07:57:43.903Z"
   },
   {
    "duration": 1360,
    "start_time": "2021-10-01T07:57:54.162Z"
   },
   {
    "duration": 3398,
    "start_time": "2021-10-01T07:57:59.571Z"
   },
   {
    "duration": 55,
    "start_time": "2021-10-01T07:58:05.442Z"
   },
   {
    "duration": 11,
    "start_time": "2021-10-01T07:58:08.654Z"
   },
   {
    "duration": 14,
    "start_time": "2021-10-01T07:58:16.376Z"
   },
   {
    "duration": 18,
    "start_time": "2021-10-01T07:58:19.701Z"
   },
   {
    "duration": 17,
    "start_time": "2021-10-01T07:58:22.419Z"
   },
   {
    "duration": 5,
    "start_time": "2021-10-01T07:59:37.440Z"
   },
   {
    "duration": 17,
    "start_time": "2021-10-01T07:59:45.002Z"
   },
   {
    "duration": 18,
    "start_time": "2021-10-01T08:00:14.672Z"
   },
   {
    "duration": 670,
    "start_time": "2021-10-01T08:00:48.561Z"
   },
   {
    "duration": 20,
    "start_time": "2021-10-01T08:01:21.221Z"
   },
   {
    "duration": 428,
    "start_time": "2021-10-01T08:02:38.959Z"
   },
   {
    "duration": 380,
    "start_time": "2021-10-01T08:02:55.930Z"
   },
   {
    "duration": 426,
    "start_time": "2021-10-01T08:03:35.648Z"
   },
   {
    "duration": 345,
    "start_time": "2021-10-01T08:03:52.119Z"
   },
   {
    "duration": 353,
    "start_time": "2021-10-01T08:03:58.174Z"
   },
   {
    "duration": 416,
    "start_time": "2021-10-01T08:04:08.335Z"
   },
   {
    "duration": 413,
    "start_time": "2021-10-01T08:04:19.193Z"
   },
   {
    "duration": 377,
    "start_time": "2021-10-01T08:04:39.208Z"
   },
   {
    "duration": 367,
    "start_time": "2021-10-01T08:04:53.328Z"
   },
   {
    "duration": 366,
    "start_time": "2021-10-01T08:04:57.719Z"
   },
   {
    "duration": 8,
    "start_time": "2021-10-01T08:05:03.367Z"
   },
   {
    "duration": 5,
    "start_time": "2021-10-01T08:05:17.601Z"
   },
   {
    "duration": 1616,
    "start_time": "2021-10-01T08:05:34.042Z"
   },
   {
    "duration": 52,
    "start_time": "2021-10-01T08:05:35.661Z"
   },
   {
    "duration": 8,
    "start_time": "2021-10-01T08:05:35.716Z"
   },
   {
    "duration": 30,
    "start_time": "2021-10-01T08:05:35.727Z"
   },
   {
    "duration": 21,
    "start_time": "2021-10-01T08:05:35.760Z"
   },
   {
    "duration": 16,
    "start_time": "2021-10-01T08:05:35.784Z"
   },
   {
    "duration": 7,
    "start_time": "2021-10-01T08:05:35.803Z"
   },
   {
    "duration": 508,
    "start_time": "2021-10-01T08:05:35.814Z"
   },
   {
    "duration": 509,
    "start_time": "2021-10-01T08:05:36.325Z"
   },
   {
    "duration": 471,
    "start_time": "2021-10-01T08:05:36.837Z"
   },
   {
    "duration": 465,
    "start_time": "2021-10-01T08:05:37.311Z"
   },
   {
    "duration": 468,
    "start_time": "2021-10-01T08:05:37.779Z"
   },
   {
    "duration": 463,
    "start_time": "2021-10-01T08:05:38.249Z"
   },
   {
    "duration": 345,
    "start_time": "2021-10-01T08:05:38.715Z"
   },
   {
    "duration": 551,
    "start_time": "2021-10-01T08:05:39.063Z"
   },
   {
    "duration": 10,
    "start_time": "2021-10-01T08:13:03.367Z"
   },
   {
    "duration": 371,
    "start_time": "2021-10-01T08:13:10.729Z"
   },
   {
    "duration": 9351,
    "start_time": "2021-10-01T08:14:02.579Z"
   },
   {
    "duration": 10,
    "start_time": "2021-10-01T08:15:55.034Z"
   },
   {
    "duration": 8,
    "start_time": "2021-10-01T08:52:03.995Z"
   },
   {
    "duration": 8,
    "start_time": "2021-10-01T08:52:24.509Z"
   },
   {
    "duration": 1686,
    "start_time": "2021-10-01T08:52:31.649Z"
   },
   {
    "duration": 50,
    "start_time": "2021-10-01T08:52:33.337Z"
   },
   {
    "duration": 8,
    "start_time": "2021-10-01T08:52:33.390Z"
   },
   {
    "duration": 13,
    "start_time": "2021-10-01T08:52:33.401Z"
   },
   {
    "duration": 48,
    "start_time": "2021-10-01T08:52:33.417Z"
   },
   {
    "duration": 16,
    "start_time": "2021-10-01T08:52:33.468Z"
   },
   {
    "duration": 13,
    "start_time": "2021-10-01T08:52:33.486Z"
   },
   {
    "duration": 14,
    "start_time": "2021-10-01T08:52:33.503Z"
   },
   {
    "duration": 8,
    "start_time": "2021-10-01T08:52:33.520Z"
   },
   {
    "duration": 490,
    "start_time": "2021-10-01T08:52:33.558Z"
   },
   {
    "duration": 542,
    "start_time": "2021-10-01T08:52:34.051Z"
   },
   {
    "duration": 563,
    "start_time": "2021-10-01T08:52:34.595Z"
   },
   {
    "duration": 456,
    "start_time": "2021-10-01T08:52:35.160Z"
   },
   {
    "duration": 467,
    "start_time": "2021-10-01T08:52:35.619Z"
   },
   {
    "duration": 492,
    "start_time": "2021-10-01T08:52:36.089Z"
   },
   {
    "duration": 346,
    "start_time": "2021-10-01T08:52:36.584Z"
   },
   {
    "duration": 520,
    "start_time": "2021-10-01T08:52:36.932Z"
   },
   {
    "duration": 8,
    "start_time": "2021-10-01T08:53:06.826Z"
   },
   {
    "duration": 1676,
    "start_time": "2021-10-01T08:53:14.294Z"
   },
   {
    "duration": 49,
    "start_time": "2021-10-01T08:53:15.974Z"
   },
   {
    "duration": 8,
    "start_time": "2021-10-01T08:53:16.027Z"
   },
   {
    "duration": 27,
    "start_time": "2021-10-01T08:53:16.038Z"
   },
   {
    "duration": 10,
    "start_time": "2021-10-01T08:53:16.067Z"
   },
   {
    "duration": 24,
    "start_time": "2021-10-01T08:53:16.079Z"
   },
   {
    "duration": 17,
    "start_time": "2021-10-01T08:53:16.106Z"
   },
   {
    "duration": 8,
    "start_time": "2021-10-01T08:53:16.160Z"
   },
   {
    "duration": 14,
    "start_time": "2021-10-01T08:53:16.170Z"
   },
   {
    "duration": 8,
    "start_time": "2021-10-01T08:53:16.187Z"
   },
   {
    "duration": 606,
    "start_time": "2021-10-01T08:53:16.198Z"
   },
   {
    "duration": 542,
    "start_time": "2021-10-01T08:53:16.807Z"
   },
   {
    "duration": 480,
    "start_time": "2021-10-01T08:53:17.351Z"
   },
   {
    "duration": 693,
    "start_time": "2021-10-01T08:53:17.834Z"
   },
   {
    "duration": 479,
    "start_time": "2021-10-01T08:53:18.530Z"
   },
   {
    "duration": 509,
    "start_time": "2021-10-01T08:53:19.012Z"
   },
   {
    "duration": 342,
    "start_time": "2021-10-01T08:53:19.524Z"
   },
   {
    "duration": 873,
    "start_time": "2021-10-01T08:53:19.869Z"
   },
   {
    "duration": 10,
    "start_time": "2021-10-01T08:54:05.307Z"
   },
   {
    "duration": 13,
    "start_time": "2021-10-01T08:54:17.680Z"
   },
   {
    "duration": 12,
    "start_time": "2021-10-01T08:54:29.784Z"
   },
   {
    "duration": 383,
    "start_time": "2021-10-01T08:55:00.584Z"
   },
   {
    "duration": 469,
    "start_time": "2021-10-01T08:55:06.531Z"
   },
   {
    "duration": 373,
    "start_time": "2021-10-01T08:55:14.653Z"
   },
   {
    "duration": 382,
    "start_time": "2021-10-01T08:55:22.204Z"
   },
   {
    "duration": 391,
    "start_time": "2021-10-01T08:55:27.154Z"
   },
   {
    "duration": 358,
    "start_time": "2021-10-01T08:55:38.649Z"
   },
   {
    "duration": 355,
    "start_time": "2021-10-01T08:55:53.169Z"
   },
   {
    "duration": 365,
    "start_time": "2021-10-01T08:55:58.167Z"
   },
   {
    "duration": 366,
    "start_time": "2021-10-01T08:56:10.213Z"
   },
   {
    "duration": 409,
    "start_time": "2021-10-01T08:56:14.474Z"
   },
   {
    "duration": 379,
    "start_time": "2021-10-01T08:56:19.514Z"
   },
   {
    "duration": 311,
    "start_time": "2021-10-01T08:58:02.175Z"
   },
   {
    "duration": 1875,
    "start_time": "2021-10-01T09:00:41.655Z"
   },
   {
    "duration": 49,
    "start_time": "2021-10-01T09:00:43.559Z"
   },
   {
    "duration": 9,
    "start_time": "2021-10-01T09:00:43.610Z"
   },
   {
    "duration": 16,
    "start_time": "2021-10-01T09:00:43.621Z"
   },
   {
    "duration": 10,
    "start_time": "2021-10-01T09:00:43.640Z"
   },
   {
    "duration": 20,
    "start_time": "2021-10-01T09:00:43.652Z"
   },
   {
    "duration": 16,
    "start_time": "2021-10-01T09:00:43.674Z"
   },
   {
    "duration": 14,
    "start_time": "2021-10-01T09:00:43.694Z"
   },
   {
    "duration": 14,
    "start_time": "2021-10-01T09:00:43.711Z"
   },
   {
    "duration": 32,
    "start_time": "2021-10-01T09:00:43.728Z"
   },
   {
    "duration": 398,
    "start_time": "2021-10-01T09:00:43.762Z"
   },
   {
    "duration": 542,
    "start_time": "2021-10-01T09:00:44.163Z"
   },
   {
    "duration": 487,
    "start_time": "2021-10-01T09:00:44.707Z"
   },
   {
    "duration": 567,
    "start_time": "2021-10-01T09:00:45.196Z"
   },
   {
    "duration": 487,
    "start_time": "2021-10-01T09:00:45.766Z"
   },
   {
    "duration": 485,
    "start_time": "2021-10-01T09:00:46.258Z"
   },
   {
    "duration": 357,
    "start_time": "2021-10-01T09:00:46.746Z"
   },
   {
    "duration": 522,
    "start_time": "2021-10-01T09:00:47.107Z"
   },
   {
    "duration": 365,
    "start_time": "2021-10-01T09:01:12.992Z"
   },
   {
    "duration": 314,
    "start_time": "2021-10-02T08:33:20.143Z"
   },
   {
    "duration": 326,
    "start_time": "2021-10-02T08:34:54.514Z"
   },
   {
    "duration": 1613,
    "start_time": "2021-10-02T08:35:03.150Z"
   },
   {
    "duration": 52,
    "start_time": "2021-10-02T08:35:04.765Z"
   },
   {
    "duration": 8,
    "start_time": "2021-10-02T08:35:04.820Z"
   },
   {
    "duration": 13,
    "start_time": "2021-10-02T08:35:04.830Z"
   },
   {
    "duration": 6,
    "start_time": "2021-10-02T08:35:04.845Z"
   },
   {
    "duration": 44,
    "start_time": "2021-10-02T08:35:04.854Z"
   },
   {
    "duration": 15,
    "start_time": "2021-10-02T08:35:04.901Z"
   },
   {
    "duration": 7,
    "start_time": "2021-10-02T08:35:04.920Z"
   },
   {
    "duration": 11,
    "start_time": "2021-10-02T08:35:04.930Z"
   },
   {
    "duration": 49,
    "start_time": "2021-10-02T08:35:04.943Z"
   },
   {
    "duration": 304,
    "start_time": "2021-10-02T08:35:04.995Z"
   },
   {
    "duration": 505,
    "start_time": "2021-10-02T08:35:05.301Z"
   },
   {
    "duration": 452,
    "start_time": "2021-10-02T08:35:05.809Z"
   },
   {
    "duration": 444,
    "start_time": "2021-10-02T08:35:06.263Z"
   },
   {
    "duration": 453,
    "start_time": "2021-10-02T08:35:06.709Z"
   },
   {
    "duration": 439,
    "start_time": "2021-10-02T08:35:07.164Z"
   },
   {
    "duration": 348,
    "start_time": "2021-10-02T08:35:07.606Z"
   },
   {
    "duration": 33,
    "start_time": "2021-10-02T08:35:07.957Z"
   },
   {
    "duration": 95,
    "start_time": "2021-10-02T08:35:07.992Z"
   },
   {
    "duration": 29,
    "start_time": "2021-10-02T08:43:16.598Z"
   },
   {
    "duration": 13547,
    "start_time": "2021-10-02T08:47:22.246Z"
   },
   {
    "duration": 12706,
    "start_time": "2021-10-02T08:49:05.577Z"
   },
   {
    "duration": 461,
    "start_time": "2021-10-02T08:52:00.791Z"
   },
   {
    "duration": 322,
    "start_time": "2021-10-02T08:53:28.916Z"
   },
   {
    "duration": 121,
    "start_time": "2021-10-02T08:55:59.869Z"
   },
   {
    "duration": 13523,
    "start_time": "2021-10-02T08:56:08.341Z"
   },
   {
    "duration": 13603,
    "start_time": "2021-10-02T08:57:28.528Z"
   },
   {
    "duration": 2380,
    "start_time": "2021-10-03T09:36:30.092Z"
   },
   {
    "duration": 55,
    "start_time": "2021-10-03T09:36:32.475Z"
   },
   {
    "duration": 12,
    "start_time": "2021-10-03T09:36:32.533Z"
   },
   {
    "duration": 21,
    "start_time": "2021-10-03T09:36:32.548Z"
   },
   {
    "duration": 8,
    "start_time": "2021-10-03T09:36:32.571Z"
   },
   {
    "duration": 30,
    "start_time": "2021-10-03T09:36:32.582Z"
   },
   {
    "duration": 19,
    "start_time": "2021-10-03T09:36:32.614Z"
   },
   {
    "duration": 37,
    "start_time": "2021-10-03T09:36:32.637Z"
   },
   {
    "duration": 20,
    "start_time": "2021-10-03T09:36:32.677Z"
   },
   {
    "duration": 18,
    "start_time": "2021-10-03T09:36:32.700Z"
   },
   {
    "duration": 333,
    "start_time": "2021-10-03T09:36:32.720Z"
   },
   {
    "duration": 606,
    "start_time": "2021-10-03T09:36:33.055Z"
   },
   {
    "duration": 502,
    "start_time": "2021-10-03T09:36:33.668Z"
   },
   {
    "duration": 467,
    "start_time": "2021-10-03T09:36:34.172Z"
   },
   {
    "duration": 491,
    "start_time": "2021-10-03T09:36:34.641Z"
   },
   {
    "duration": 590,
    "start_time": "2021-10-03T09:36:35.134Z"
   },
   {
    "duration": 360,
    "start_time": "2021-10-03T09:36:35.726Z"
   },
   {
    "duration": 23,
    "start_time": "2021-10-03T09:36:36.089Z"
   },
   {
    "duration": 591,
    "start_time": "2021-10-03T09:36:36.114Z"
   },
   {
    "duration": 8,
    "start_time": "2021-10-03T09:44:29.510Z"
   },
   {
    "duration": 210,
    "start_time": "2021-10-03T09:44:34.458Z"
   },
   {
    "duration": 217,
    "start_time": "2021-10-03T09:45:05.954Z"
   },
   {
    "duration": 14411,
    "start_time": "2021-10-03T09:45:39.570Z"
   },
   {
    "duration": 42974,
    "start_time": "2021-10-03T09:47:21.623Z"
   },
   {
    "duration": 60060,
    "start_time": "2021-10-03T09:48:44.465Z"
   },
   {
    "duration": 127995,
    "start_time": "2021-10-03T09:51:01.551Z"
   },
   {
    "duration": 16067,
    "start_time": "2021-10-03T09:55:06.866Z"
   },
   {
    "duration": 5484,
    "start_time": "2021-10-03T09:58:02.872Z"
   },
   {
    "duration": 16554,
    "start_time": "2021-10-03T09:58:26.985Z"
   },
   {
    "duration": 2918,
    "start_time": "2021-10-03T09:59:23.179Z"
   },
   {
    "duration": 136,
    "start_time": "2021-10-03T09:59:42.643Z"
   },
   {
    "duration": 297,
    "start_time": "2021-10-03T09:59:47.799Z"
   },
   {
    "duration": 486,
    "start_time": "2021-10-03T09:59:51.872Z"
   },
   {
    "duration": 780,
    "start_time": "2021-10-03T09:59:55.511Z"
   },
   {
    "duration": 1029,
    "start_time": "2021-10-03T09:59:59.288Z"
   },
   {
    "duration": 1359,
    "start_time": "2021-10-03T10:00:02.690Z"
   },
   {
    "duration": 1730,
    "start_time": "2021-10-03T10:00:07.301Z"
   },
   {
    "duration": 2213,
    "start_time": "2021-10-03T10:00:11.999Z"
   },
   {
    "duration": 1739,
    "start_time": "2021-10-03T10:00:17.765Z"
   },
   {
    "duration": 3743,
    "start_time": "2021-10-03T10:00:26.716Z"
   },
   {
    "duration": 1886,
    "start_time": "2021-10-03T10:00:34.612Z"
   },
   {
    "duration": 17575,
    "start_time": "2021-10-03T10:00:47.404Z"
   },
   {
    "duration": 128432,
    "start_time": "2021-10-03T10:10:03.120Z"
   },
   {
    "duration": 1193,
    "start_time": "2021-10-06T05:05:38.272Z"
   },
   {
    "duration": 39,
    "start_time": "2021-10-06T05:05:39.467Z"
   },
   {
    "duration": 7,
    "start_time": "2021-10-06T05:05:39.508Z"
   },
   {
    "duration": 9,
    "start_time": "2021-10-06T05:05:39.631Z"
   },
   {
    "duration": 6,
    "start_time": "2021-10-06T05:05:39.825Z"
   },
   {
    "duration": 13,
    "start_time": "2021-10-06T05:05:41.224Z"
   },
   {
    "duration": 12,
    "start_time": "2021-10-06T05:05:41.692Z"
   },
   {
    "duration": 6,
    "start_time": "2021-10-06T05:05:42.334Z"
   },
   {
    "duration": 7,
    "start_time": "2021-10-06T05:05:42.630Z"
   },
   {
    "duration": 8,
    "start_time": "2021-10-06T05:05:42.811Z"
   },
   {
    "duration": 180,
    "start_time": "2021-10-06T05:06:21.082Z"
   },
   {
    "duration": 336,
    "start_time": "2021-10-06T05:06:21.925Z"
   },
   {
    "duration": 268,
    "start_time": "2021-10-06T05:06:22.697Z"
   },
   {
    "duration": 284,
    "start_time": "2021-10-06T05:06:23.711Z"
   },
   {
    "duration": 371,
    "start_time": "2021-10-06T05:06:24.473Z"
   },
   {
    "duration": 276,
    "start_time": "2021-10-06T05:06:25.011Z"
   },
   {
    "duration": 193,
    "start_time": "2021-10-06T05:06:26.153Z"
   },
   {
    "duration": 23,
    "start_time": "2021-10-06T05:06:56.151Z"
   },
   {
    "duration": 231,
    "start_time": "2021-10-06T05:07:15.818Z"
   },
   {
    "duration": 89708,
    "start_time": "2021-10-06T05:07:16.547Z"
   },
   {
    "duration": 1647,
    "start_time": "2021-10-06T08:01:35.982Z"
   },
   {
    "duration": 85,
    "start_time": "2021-10-06T08:01:37.631Z"
   },
   {
    "duration": 8,
    "start_time": "2021-10-06T08:01:37.719Z"
   },
   {
    "duration": 13,
    "start_time": "2021-10-06T08:01:37.730Z"
   },
   {
    "duration": 10,
    "start_time": "2021-10-06T08:01:37.746Z"
   },
   {
    "duration": 23,
    "start_time": "2021-10-06T08:01:37.759Z"
   },
   {
    "duration": 18,
    "start_time": "2021-10-06T08:01:37.823Z"
   },
   {
    "duration": 13,
    "start_time": "2021-10-06T08:01:37.843Z"
   },
   {
    "duration": 12,
    "start_time": "2021-10-06T08:01:37.860Z"
   },
   {
    "duration": 48,
    "start_time": "2021-10-06T08:01:37.875Z"
   },
   {
    "duration": 320,
    "start_time": "2021-10-06T08:01:37.926Z"
   },
   {
    "duration": 518,
    "start_time": "2021-10-06T08:01:38.249Z"
   },
   {
    "duration": 476,
    "start_time": "2021-10-06T08:01:38.770Z"
   },
   {
    "duration": 461,
    "start_time": "2021-10-06T08:01:39.248Z"
   },
   {
    "duration": 464,
    "start_time": "2021-10-06T08:01:39.712Z"
   },
   {
    "duration": 472,
    "start_time": "2021-10-06T08:01:40.178Z"
   },
   {
    "duration": 395,
    "start_time": "2021-10-06T08:01:40.653Z"
   },
   {
    "duration": 31,
    "start_time": "2021-10-06T08:01:41.051Z"
   },
   {
    "duration": 139,
    "start_time": "2021-10-06T08:01:41.085Z"
   },
   {
    "duration": 128061,
    "start_time": "2021-10-06T08:01:41.227Z"
   },
   {
    "duration": 1603,
    "start_time": "2021-10-06T08:04:12.142Z"
   },
   {
    "duration": 47,
    "start_time": "2021-10-06T08:04:13.747Z"
   },
   {
    "duration": 9,
    "start_time": "2021-10-06T08:04:13.797Z"
   },
   {
    "duration": 26,
    "start_time": "2021-10-06T08:04:13.808Z"
   },
   {
    "duration": 25,
    "start_time": "2021-10-06T08:04:13.837Z"
   },
   {
    "duration": 24,
    "start_time": "2021-10-06T08:04:13.865Z"
   },
   {
    "duration": 21,
    "start_time": "2021-10-06T08:04:13.891Z"
   },
   {
    "duration": 8,
    "start_time": "2021-10-06T08:04:13.922Z"
   },
   {
    "duration": 21,
    "start_time": "2021-10-06T08:04:13.934Z"
   },
   {
    "duration": 15,
    "start_time": "2021-10-06T08:04:13.957Z"
   },
   {
    "duration": 330,
    "start_time": "2021-10-06T08:04:13.974Z"
   },
   {
    "duration": 523,
    "start_time": "2021-10-06T08:04:14.306Z"
   },
   {
    "duration": 456,
    "start_time": "2021-10-06T08:04:14.831Z"
   },
   {
    "duration": 449,
    "start_time": "2021-10-06T08:04:15.290Z"
   },
   {
    "duration": 484,
    "start_time": "2021-10-06T08:04:15.741Z"
   },
   {
    "duration": 467,
    "start_time": "2021-10-06T08:04:16.227Z"
   },
   {
    "duration": 338,
    "start_time": "2021-10-06T08:04:16.697Z"
   },
   {
    "duration": 13,
    "start_time": "2021-10-06T08:04:17.037Z"
   },
   {
    "duration": 169,
    "start_time": "2021-10-06T08:04:17.053Z"
   },
   {
    "duration": 79487,
    "start_time": "2021-10-06T08:04:17.225Z"
   },
   {
    "duration": 80036,
    "start_time": "2021-10-06T08:09:17.747Z"
   },
   {
    "duration": 1638,
    "start_time": "2021-10-06T22:07:39.631Z"
   },
   {
    "duration": 50,
    "start_time": "2021-10-06T22:07:41.272Z"
   },
   {
    "duration": 11,
    "start_time": "2021-10-06T22:07:41.325Z"
   },
   {
    "duration": 30,
    "start_time": "2021-10-06T22:07:41.339Z"
   },
   {
    "duration": 8,
    "start_time": "2021-10-06T22:07:41.371Z"
   },
   {
    "duration": 21,
    "start_time": "2021-10-06T22:07:41.383Z"
   },
   {
    "duration": 58,
    "start_time": "2021-10-06T22:07:41.407Z"
   },
   {
    "duration": 9,
    "start_time": "2021-10-06T22:07:41.471Z"
   },
   {
    "duration": 12,
    "start_time": "2021-10-06T22:07:41.483Z"
   },
   {
    "duration": 15,
    "start_time": "2021-10-06T22:07:41.497Z"
   },
   {
    "duration": 353,
    "start_time": "2021-10-06T22:07:41.514Z"
   },
   {
    "duration": 541,
    "start_time": "2021-10-06T22:07:41.869Z"
   },
   {
    "duration": 485,
    "start_time": "2021-10-06T22:07:42.413Z"
   },
   {
    "duration": 454,
    "start_time": "2021-10-06T22:07:42.900Z"
   },
   {
    "duration": 458,
    "start_time": "2021-10-06T22:07:43.358Z"
   },
   {
    "duration": 456,
    "start_time": "2021-10-06T22:07:43.818Z"
   },
   {
    "duration": 338,
    "start_time": "2021-10-06T22:07:44.276Z"
   },
   {
    "duration": 12,
    "start_time": "2021-10-06T22:07:44.616Z"
   },
   {
    "duration": 127,
    "start_time": "2021-10-06T22:07:44.630Z"
   },
   {
    "duration": 78143,
    "start_time": "2021-10-06T22:07:44.761Z"
   },
   {
    "duration": 510,
    "start_time": "2021-10-06T22:12:27.507Z"
   },
   {
    "duration": 566,
    "start_time": "2021-10-06T22:13:41.291Z"
   },
   {
    "duration": 602,
    "start_time": "2021-10-06T22:19:46.326Z"
   },
   {
    "duration": 1743,
    "start_time": "2021-10-06T22:19:57.025Z"
   },
   {
    "duration": 48,
    "start_time": "2021-10-06T22:19:58.771Z"
   },
   {
    "duration": 8,
    "start_time": "2021-10-06T22:19:58.822Z"
   },
   {
    "duration": 12,
    "start_time": "2021-10-06T22:19:58.833Z"
   },
   {
    "duration": 6,
    "start_time": "2021-10-06T22:19:58.858Z"
   },
   {
    "duration": 26,
    "start_time": "2021-10-06T22:19:58.867Z"
   },
   {
    "duration": 23,
    "start_time": "2021-10-06T22:19:58.896Z"
   },
   {
    "duration": 10,
    "start_time": "2021-10-06T22:19:58.957Z"
   },
   {
    "duration": 13,
    "start_time": "2021-10-06T22:19:58.971Z"
   },
   {
    "duration": 11,
    "start_time": "2021-10-06T22:19:58.987Z"
   },
   {
    "duration": 518,
    "start_time": "2021-10-06T22:19:59.001Z"
   },
   {
    "duration": 449,
    "start_time": "2021-10-06T22:19:59.522Z"
   },
   {
    "duration": 479,
    "start_time": "2021-10-06T22:19:59.973Z"
   },
   {
    "duration": 470,
    "start_time": "2021-10-06T22:20:00.458Z"
   },
   {
    "duration": 481,
    "start_time": "2021-10-06T22:20:00.931Z"
   },
   {
    "duration": 711,
    "start_time": "2021-10-06T22:20:01.415Z"
   },
   {
    "duration": 470,
    "start_time": "2021-10-06T22:20:02.128Z"
   },
   {
    "duration": 18,
    "start_time": "2021-10-06T22:20:02.601Z"
   },
   {
    "duration": 59,
    "start_time": "2021-10-06T22:20:02.621Z"
   },
   {
    "duration": 1895,
    "start_time": "2021-10-06T22:20:02.765Z"
   },
   {
    "duration": 109052,
    "start_time": "2021-10-06T22:20:04.663Z"
   },
   {
    "duration": 1290,
    "start_time": "2021-10-06T22:21:53.718Z"
   },
   {
    "duration": 1284,
    "start_time": "2021-10-06T22:22:11.592Z"
   },
   {
    "duration": 1272,
    "start_time": "2021-10-06T22:24:23.307Z"
   },
   {
    "duration": 1278,
    "start_time": "2021-10-06T22:25:26.171Z"
   },
   {
    "duration": 724,
    "start_time": "2021-10-06T22:26:09.711Z"
   },
   {
    "duration": 1724,
    "start_time": "2021-10-06T22:27:44.985Z"
   },
   {
    "duration": 48,
    "start_time": "2021-10-06T22:27:46.712Z"
   },
   {
    "duration": 8,
    "start_time": "2021-10-06T22:27:46.763Z"
   },
   {
    "duration": 14,
    "start_time": "2021-10-06T22:27:46.773Z"
   },
   {
    "duration": 10,
    "start_time": "2021-10-06T22:27:46.790Z"
   },
   {
    "duration": 58,
    "start_time": "2021-10-06T22:27:46.803Z"
   },
   {
    "duration": 20,
    "start_time": "2021-10-06T22:27:46.864Z"
   },
   {
    "duration": 9,
    "start_time": "2021-10-06T22:27:46.887Z"
   },
   {
    "duration": 10,
    "start_time": "2021-10-06T22:27:46.899Z"
   },
   {
    "duration": 53,
    "start_time": "2021-10-06T22:27:46.911Z"
   },
   {
    "duration": 379,
    "start_time": "2021-10-06T22:27:46.966Z"
   },
   {
    "duration": 447,
    "start_time": "2021-10-06T22:27:47.347Z"
   },
   {
    "duration": 461,
    "start_time": "2021-10-06T22:27:47.797Z"
   },
   {
    "duration": 461,
    "start_time": "2021-10-06T22:27:48.260Z"
   },
   {
    "duration": 480,
    "start_time": "2021-10-06T22:27:48.723Z"
   },
   {
    "duration": 457,
    "start_time": "2021-10-06T22:27:49.206Z"
   },
   {
    "duration": 349,
    "start_time": "2021-10-06T22:27:49.666Z"
   },
   {
    "duration": 15,
    "start_time": "2021-10-06T22:27:50.018Z"
   },
   {
    "duration": 122,
    "start_time": "2021-10-06T22:27:50.035Z"
   },
   {
    "duration": 1403,
    "start_time": "2021-10-06T22:27:50.161Z"
   },
   {
    "duration": 78822,
    "start_time": "2021-10-06T22:27:51.567Z"
   },
   {
    "duration": 540,
    "start_time": "2021-10-06T22:29:10.391Z"
   },
   {
    "duration": 76135,
    "start_time": "2021-10-06T22:29:24.569Z"
   },
   {
    "duration": 402,
    "start_time": "2021-10-06T22:32:04.458Z"
   },
   {
    "duration": 1108,
    "start_time": "2021-10-06T22:32:24.669Z"
   },
   {
    "duration": 1214,
    "start_time": "2021-10-06T22:33:19.662Z"
   },
   {
    "duration": 1273,
    "start_time": "2021-10-06T22:33:50.665Z"
   },
   {
    "duration": 1332,
    "start_time": "2021-10-06T22:36:47.603Z"
   },
   {
    "duration": 1319,
    "start_time": "2021-10-06T22:39:30.586Z"
   },
   {
    "duration": 1354,
    "start_time": "2021-10-06T22:39:41.651Z"
   },
   {
    "duration": 1361,
    "start_time": "2021-10-06T22:41:12.414Z"
   },
   {
    "duration": 1351,
    "start_time": "2021-10-06T22:42:17.635Z"
   },
   {
    "duration": 76044,
    "start_time": "2021-10-06T23:14:25.113Z"
   },
   {
    "duration": 1284,
    "start_time": "2021-10-06T23:15:47.780Z"
   },
   {
    "duration": 1383,
    "start_time": "2021-10-06T23:15:57.522Z"
   },
   {
    "duration": 1283,
    "start_time": "2021-10-06T23:16:44.090Z"
   },
   {
    "duration": 1274,
    "start_time": "2021-10-06T23:17:29.508Z"
   },
   {
    "duration": 1258,
    "start_time": "2021-10-06T23:17:46.041Z"
   }
  ],
  "kernelspec": {
   "display_name": "Python 3 (ipykernel)",
   "language": "python",
   "name": "python3"
  },
  "language_info": {
   "codemirror_mode": {
    "name": "ipython",
    "version": 3
   },
   "file_extension": ".py",
   "mimetype": "text/x-python",
   "name": "python",
   "nbconvert_exporter": "python",
   "pygments_lexer": "ipython3",
   "version": "3.9.5"
  },
  "toc": {
   "base_numbering": 1,
   "nav_menu": {},
   "number_sections": true,
   "sideBar": true,
   "skip_h1_title": true,
   "title_cell": "Table of Contents",
   "title_sidebar": "Contents",
   "toc_cell": false,
   "toc_position": {},
   "toc_section_display": true,
   "toc_window_display": false
  }
 },
 "nbformat": 4,
 "nbformat_minor": 2
}
